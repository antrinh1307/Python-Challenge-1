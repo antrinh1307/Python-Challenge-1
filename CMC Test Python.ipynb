{
 "cells": [
  {
   "cell_type": "code",
   "execution_count": 2,
   "metadata": {},
   "outputs": [],
   "source": [
    "import random"
   ]
  },
  {
   "cell_type": "code",
   "execution_count": 3,
   "metadata": {},
   "outputs": [],
   "source": [
    "def ArrayChallenge(arr):\n",
    "    if len(arr) < 2:\n",
    "        return -1\n",
    "\n",
    "    min_price = arr[0]\n",
    "    max_profit = 0\n",
    "\n",
    "    for i in range(1, len(arr)):\n",
    "        if arr[i] < min_price:\n",
    "            min_price = arr[i]\n",
    "        elif arr[i] - min_price > max_profit:\n",
    "            max_profit = arr[i] - min_price\n",
    "\n",
    "    if max_profit == 0:\n",
    "        return -1\n",
    "    else:\n",
    "        return max_profit"
   ]
  },
  {
   "cell_type": "code",
   "execution_count": 4,
   "metadata": {},
   "outputs": [
    {
     "name": "stdout",
     "output_type": "stream",
     "text": [
      "[83, 44, 71, 38, 6, 62, 53, 45, 66, 73]\n"
     ]
    }
   ],
   "source": [
    "rd = [random.randint(1, 100) for _ in range(10)]\n",
    "print(rd)"
   ]
  },
  {
   "cell_type": "code",
   "execution_count": 5,
   "metadata": {},
   "outputs": [
    {
     "name": "stdout",
     "output_type": "stream",
     "text": [
      "67\n"
     ]
    }
   ],
   "source": [
    "output = ArrayChallenge(rd)\n",
    "print(output)"
   ]
  },
  {
   "cell_type": "code",
   "execution_count": 6,
   "metadata": {},
   "outputs": [
    {
     "name": "stdout",
     "output_type": "stream",
     "text": [
      "7\n"
     ]
    }
   ],
   "source": [
    "ChallengeToken = '2gjuh9615a'\n",
    "output = str(output)\n",
    "for character in ChallengeToken:\n",
    "    if character in output:\n",
    "        output = output.replace(character, '')\n",
    "\n",
    "if output == '':\n",
    "    print('EMPTY')\n",
    "else:\n",
    "    print(output)"
   ]
  }
 ],
 "metadata": {
  "kernelspec": {
   "display_name": "Python 3",
   "language": "python",
   "name": "python3"
  },
  "language_info": {
   "codemirror_mode": {
    "name": "ipython",
    "version": 3
   },
   "file_extension": ".py",
   "mimetype": "text/x-python",
   "name": "python",
   "nbconvert_exporter": "python",
   "pygments_lexer": "ipython3",
   "version": "3.11.3"
  }
 },
 "nbformat": 4,
 "nbformat_minor": 2
}
